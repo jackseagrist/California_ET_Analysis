{
  "nbformat": 4,
  "nbformat_minor": 0,
  "metadata": {
    "colab": {
      "name": "Penman_Practice_CIMIS.ipynb",
      "provenance": [],
      "collapsed_sections": [
        "8vRVrDe9bHKe",
        "mI1bTTmecsd8",
        "LU5etoJABnbS"
      ]
    },
    "kernelspec": {
      "name": "python3",
      "display_name": "Python 3"
    }
  },
  "cells": [
    {
      "cell_type": "markdown",
      "metadata": {
        "id": "S-jbqNEBWvQ7",
        "colab_type": "text"
      },
      "source": [
        "# Exploratory Data Analysis Practice with CIMIS data"
      ]
    },
    {
      "cell_type": "markdown",
      "metadata": {
        "id": "FYXhsWX6dMuS",
        "colab_type": "text"
      },
      "source": [
        "Data Source - https://cimis.water.ca.gov/WSNReportCriteria.aspx"
      ]
    },
    {
      "cell_type": "markdown",
      "metadata": {
        "id": "2jCtuCqZWz9Z",
        "colab_type": "text"
      },
      "source": [
        "Book Resources:\n",
        "Modern Statistics for Modern Biology. Chapter 3 High Quality Graphics in R. Susan Holmes, Wolfgang Huber. http://web.stanford.edu/class/bios221/book/Chap-Graphics.html\n",
        "\n",
        "Packages:\n",
        "\n",
        "> Summaries: \n",
        "Python: Pandas https://pandas.pydata.org/pandas-docs/stable/reference/api/pandas.DataFrame.describe.html\n",
        " R: tidyverse https://dplyr.tidyverse.org/reference/summarise.html\n",
        "Another R library: https://cran.r-project.org/web/packages/qwraps2/vignettes/summary-statistics.html\n",
        "\n",
        "> Visualization:\n",
        "Python: Plotly (interactive) https://plotly.com/python/\n",
        "Python: Seaborn (ggplot alike) http://seaborn.pydata.org/tutorial.html\n",
        "R: ggplot https://ggplot2.tidyverse.org \n",
        "\n",
        "\n",
        "Examples:\n",
        "Visualization plots: Modern Statistics for Modern Biology. Chapter 3 High Quality Graphics in R. Susan Holmes, Wolfgang Huber. http://web.stanford.edu/class/bios221/book/Chap-Graphics.html\n",
        "Misleading Axes on graphs: https://callingbullshit.org/tools/tools_misleading_axes.html"
      ]
    },
    {
      "cell_type": "code",
      "metadata": {
        "id": "oEZdBa3eW2S1",
        "colab_type": "code",
        "colab": {
          "base_uri": "https://localhost:8080/",
          "height": 34
        },
        "outputId": "7e960d84-efb1-4f84-ff7e-fcd5bde07d79"
      },
      "source": [
        "import math\n",
        "import pandas as pd\n",
        "import numpy as np\n",
        "import datascience\n",
        "from numpy import cov\n",
        "import seaborn\n",
        "import plotly as py\n",
        "import plotlywidget\n",
        "import plotly.graph_objects as go\n",
        "import seaborn as sns\n",
        "import matplotlib.pyplot as plt\n",
        "from scipy import stats\n",
        "import math\n",
        "print('Done')"
      ],
      "execution_count": 15,
      "outputs": [
        {
          "output_type": "stream",
          "text": [
            "Done\n"
          ],
          "name": "stdout"
        }
      ]
    },
    {
      "cell_type": "markdown",
      "metadata": {
        "id": "OucsdZ9OX9I4",
        "colab_type": "text"
      },
      "source": [
        "WARNING: Upgrading ipython, ipykernel, tornado, prompt-toolkit or pyzmq can\n",
        "cause your runtime to repeatedly crash or behave in unexpected ways and is not\n",
        "recommended. If your runtime won't connect or execute code, you can reset it\n",
        "with \"Factory reset runtime\" from the \"Runtime\" menu.\n",
        "WARNING: tornado > 4.5.0 is incompatible with ipykernel < 5.0\n",
        "WARNING: The following packages were previously imported in this runtime:\n",
        "  [tornado]\n",
        "Run \"pip install -U ipykernel\" before restarting to avoid repeated crashes."
      ]
    },
    {
      "cell_type": "code",
      "metadata": {
        "id": "3-bOE7JMW4Mz",
        "colab_type": "code",
        "colab": {}
      },
      "source": [
        "# Code to read csv file into Colaboratory:\n",
        "!pip install -U -q PyDrive\n",
        "from pydrive.auth import GoogleAuth\n",
        "from pydrive.drive import GoogleDrive\n",
        "from google.colab import auth\n",
        "from oauth2client.client import GoogleCredentials\n",
        "\n",
        "# Authenticate and create the PyDrive client.\n",
        "auth.authenticate_user()\n",
        "gauth = GoogleAuth()\n",
        "gauth.credentials = GoogleCredentials.get_application_default()\n",
        "drive = GoogleDrive(gauth)"
      ],
      "execution_count": 16,
      "outputs": []
    },
    {
      "cell_type": "code",
      "metadata": {
        "id": "f1mIAwT0W4Kq",
        "colab_type": "code",
        "colab": {}
      },
      "source": [
        "Filename = 'CIMIS_0111-0320_Monthly.csv'\n",
        "link = 'https://drive.google.com/open?id=1Xuc1iQE-ckH-CZEUJVYfA8utxhcJBA1R'"
      ],
      "execution_count": 17,
      "outputs": []
    },
    {
      "cell_type": "code",
      "metadata": {
        "id": "c-JMjH1ZYKvq",
        "colab_type": "code",
        "colab": {}
      },
      "source": [
        "discard, id = link.split('=')"
      ],
      "execution_count": 18,
      "outputs": []
    },
    {
      "cell_type": "code",
      "metadata": {
        "id": "RpcaVrreZJ5j",
        "colab_type": "code",
        "colab": {}
      },
      "source": [
        "downloaded = drive.CreateFile({'id': id})\n",
        "downloaded.GetContentFile(Filename + '.csv')\n",
        "santa_clara_monthly_11_20 = pd.read_csv(Filename + '.csv')"
      ],
      "execution_count": 19,
      "outputs": []
    },
    {
      "cell_type": "code",
      "metadata": {
        "id": "1vMPLPpMZJ8u",
        "colab_type": "code",
        "colab": {
          "base_uri": "https://localhost:8080/",
          "height": 797
        },
        "outputId": "aca319b5-00c4-406c-8d13-ea357f1352cd"
      },
      "source": [
        "santa_clara_monthly_11_20"
      ],
      "execution_count": 20,
      "outputs": [
        {
          "output_type": "execute_result",
          "data": {
            "text/html": [
              "<div>\n",
              "<style scoped>\n",
              "    .dataframe tbody tr th:only-of-type {\n",
              "        vertical-align: middle;\n",
              "    }\n",
              "\n",
              "    .dataframe tbody tr th {\n",
              "        vertical-align: top;\n",
              "    }\n",
              "\n",
              "    .dataframe thead th {\n",
              "        text-align: right;\n",
              "    }\n",
              "</style>\n",
              "<table border=\"1\" class=\"dataframe\">\n",
              "  <thead>\n",
              "    <tr style=\"text-align: right;\">\n",
              "      <th></th>\n",
              "      <th>Stn Id</th>\n",
              "      <th>Stn Name</th>\n",
              "      <th>CIMIS Region</th>\n",
              "      <th>Month Year</th>\n",
              "      <th>Total ETo (in)</th>\n",
              "      <th>qc</th>\n",
              "      <th>Total Precip (in)</th>\n",
              "      <th>qc.1</th>\n",
              "      <th>Avg Sol Rad (Ly/day)</th>\n",
              "      <th>qc.2</th>\n",
              "      <th>Avg Vap Pres (mBars)</th>\n",
              "      <th>qc.3</th>\n",
              "      <th>Avg Max Air Temp (F)</th>\n",
              "      <th>qc.4</th>\n",
              "      <th>Avg Min Air Temp (F)</th>\n",
              "      <th>qc.5</th>\n",
              "      <th>Avg Air Temp (F)</th>\n",
              "      <th>qc.6</th>\n",
              "      <th>Avg Max Rel Hum (%)</th>\n",
              "      <th>qc.7</th>\n",
              "      <th>Avg Min Rel Hum (%)</th>\n",
              "      <th>qc.8</th>\n",
              "      <th>Avg Rel Hum (%)</th>\n",
              "      <th>qc.9</th>\n",
              "      <th>Avg Dew Point (F)</th>\n",
              "      <th>qc.10</th>\n",
              "      <th>Avg Wind Speed (mph)</th>\n",
              "      <th>qc.11</th>\n",
              "      <th>Avg Soil Temp (F)</th>\n",
              "      <th>qc.12</th>\n",
              "    </tr>\n",
              "  </thead>\n",
              "  <tbody>\n",
              "    <tr>\n",
              "      <th>0</th>\n",
              "      <td>211</td>\n",
              "      <td>Gilroy</td>\n",
              "      <td>San Francisco Bay</td>\n",
              "      <td>Jan 2011</td>\n",
              "      <td>1.81</td>\n",
              "      <td>K</td>\n",
              "      <td>1.37</td>\n",
              "      <td>K</td>\n",
              "      <td>207.0</td>\n",
              "      <td>K</td>\n",
              "      <td>9.1</td>\n",
              "      <td>K</td>\n",
              "      <td>63.2</td>\n",
              "      <td>K</td>\n",
              "      <td>36.3</td>\n",
              "      <td></td>\n",
              "      <td>48.4</td>\n",
              "      <td>K</td>\n",
              "      <td>97.0</td>\n",
              "      <td>K</td>\n",
              "      <td>52.0</td>\n",
              "      <td>K</td>\n",
              "      <td>78.0</td>\n",
              "      <td></td>\n",
              "      <td>41.7</td>\n",
              "      <td></td>\n",
              "      <td>4.2</td>\n",
              "      <td>K</td>\n",
              "      <td>49.3</td>\n",
              "      <td>K</td>\n",
              "    </tr>\n",
              "    <tr>\n",
              "      <th>1</th>\n",
              "      <td>211</td>\n",
              "      <td>Gilroy</td>\n",
              "      <td>San Francisco Bay</td>\n",
              "      <td>Feb 2011</td>\n",
              "      <td>2.32</td>\n",
              "      <td></td>\n",
              "      <td>4.06</td>\n",
              "      <td></td>\n",
              "      <td>277.0</td>\n",
              "      <td></td>\n",
              "      <td>7.7</td>\n",
              "      <td></td>\n",
              "      <td>62.1</td>\n",
              "      <td>K</td>\n",
              "      <td>35.4</td>\n",
              "      <td></td>\n",
              "      <td>47.7</td>\n",
              "      <td></td>\n",
              "      <td>94.0</td>\n",
              "      <td></td>\n",
              "      <td>43.0</td>\n",
              "      <td></td>\n",
              "      <td>69.0</td>\n",
              "      <td></td>\n",
              "      <td>37.5</td>\n",
              "      <td></td>\n",
              "      <td>4.7</td>\n",
              "      <td>K</td>\n",
              "      <td>49.2</td>\n",
              "      <td></td>\n",
              "    </tr>\n",
              "    <tr>\n",
              "      <th>2</th>\n",
              "      <td>211</td>\n",
              "      <td>Gilroy</td>\n",
              "      <td>San Francisco Bay</td>\n",
              "      <td>Mar 2011</td>\n",
              "      <td>3.01</td>\n",
              "      <td>K</td>\n",
              "      <td>4.52</td>\n",
              "      <td></td>\n",
              "      <td>314.0</td>\n",
              "      <td></td>\n",
              "      <td>10.6</td>\n",
              "      <td>K</td>\n",
              "      <td>64.3</td>\n",
              "      <td>K</td>\n",
              "      <td>43.5</td>\n",
              "      <td>K</td>\n",
              "      <td>53.1</td>\n",
              "      <td></td>\n",
              "      <td>95.0</td>\n",
              "      <td></td>\n",
              "      <td>53.0</td>\n",
              "      <td></td>\n",
              "      <td>76.0</td>\n",
              "      <td>K</td>\n",
              "      <td>45.7</td>\n",
              "      <td>K</td>\n",
              "      <td>5.7</td>\n",
              "      <td>K</td>\n",
              "      <td>53.2</td>\n",
              "      <td></td>\n",
              "    </tr>\n",
              "    <tr>\n",
              "      <th>3</th>\n",
              "      <td>211</td>\n",
              "      <td>Gilroy</td>\n",
              "      <td>San Francisco Bay</td>\n",
              "      <td>Apr 2011</td>\n",
              "      <td>5.08</td>\n",
              "      <td></td>\n",
              "      <td>0.29</td>\n",
              "      <td></td>\n",
              "      <td>496.0</td>\n",
              "      <td></td>\n",
              "      <td>9.9</td>\n",
              "      <td></td>\n",
              "      <td>69.0</td>\n",
              "      <td>K</td>\n",
              "      <td>42.5</td>\n",
              "      <td>K</td>\n",
              "      <td>55.2</td>\n",
              "      <td></td>\n",
              "      <td>90.0</td>\n",
              "      <td></td>\n",
              "      <td>42.0</td>\n",
              "      <td></td>\n",
              "      <td>66.0</td>\n",
              "      <td></td>\n",
              "      <td>43.7</td>\n",
              "      <td></td>\n",
              "      <td>6.6</td>\n",
              "      <td>K</td>\n",
              "      <td>57.8</td>\n",
              "      <td></td>\n",
              "    </tr>\n",
              "    <tr>\n",
              "      <th>4</th>\n",
              "      <td>211</td>\n",
              "      <td>Gilroy</td>\n",
              "      <td>San Francisco Bay</td>\n",
              "      <td>May 2011</td>\n",
              "      <td>5.87</td>\n",
              "      <td></td>\n",
              "      <td>0.70</td>\n",
              "      <td></td>\n",
              "      <td>561.0</td>\n",
              "      <td></td>\n",
              "      <td>10.0</td>\n",
              "      <td></td>\n",
              "      <td>71.3</td>\n",
              "      <td></td>\n",
              "      <td>44.7</td>\n",
              "      <td></td>\n",
              "      <td>57.0</td>\n",
              "      <td></td>\n",
              "      <td>88.0</td>\n",
              "      <td></td>\n",
              "      <td>41.0</td>\n",
              "      <td></td>\n",
              "      <td>64.0</td>\n",
              "      <td></td>\n",
              "      <td>44.5</td>\n",
              "      <td></td>\n",
              "      <td>6.1</td>\n",
              "      <td>K</td>\n",
              "      <td>61.1</td>\n",
              "      <td></td>\n",
              "    </tr>\n",
              "    <tr>\n",
              "      <th>...</th>\n",
              "      <td>...</td>\n",
              "      <td>...</td>\n",
              "      <td>...</td>\n",
              "      <td>...</td>\n",
              "      <td>...</td>\n",
              "      <td>...</td>\n",
              "      <td>...</td>\n",
              "      <td>...</td>\n",
              "      <td>...</td>\n",
              "      <td>...</td>\n",
              "      <td>...</td>\n",
              "      <td>...</td>\n",
              "      <td>...</td>\n",
              "      <td>...</td>\n",
              "      <td>...</td>\n",
              "      <td>...</td>\n",
              "      <td>...</td>\n",
              "      <td>...</td>\n",
              "      <td>...</td>\n",
              "      <td>...</td>\n",
              "      <td>...</td>\n",
              "      <td>...</td>\n",
              "      <td>...</td>\n",
              "      <td>...</td>\n",
              "      <td>...</td>\n",
              "      <td>...</td>\n",
              "      <td>...</td>\n",
              "      <td>...</td>\n",
              "      <td>...</td>\n",
              "      <td>...</td>\n",
              "    </tr>\n",
              "    <tr>\n",
              "      <th>106</th>\n",
              "      <td>211</td>\n",
              "      <td>Gilroy</td>\n",
              "      <td>San Francisco Bay</td>\n",
              "      <td>Nov 2019</td>\n",
              "      <td>2.53</td>\n",
              "      <td></td>\n",
              "      <td>0.00</td>\n",
              "      <td>L</td>\n",
              "      <td>280.0</td>\n",
              "      <td>K</td>\n",
              "      <td>9.3</td>\n",
              "      <td>L</td>\n",
              "      <td>70.5</td>\n",
              "      <td>K</td>\n",
              "      <td>38.8</td>\n",
              "      <td>K</td>\n",
              "      <td>53.0</td>\n",
              "      <td></td>\n",
              "      <td>88.0</td>\n",
              "      <td></td>\n",
              "      <td>39.0</td>\n",
              "      <td></td>\n",
              "      <td>61.0</td>\n",
              "      <td>L</td>\n",
              "      <td>41.6</td>\n",
              "      <td>L</td>\n",
              "      <td>3.9</td>\n",
              "      <td>L</td>\n",
              "      <td>57.5</td>\n",
              "      <td>L</td>\n",
              "    </tr>\n",
              "    <tr>\n",
              "      <th>107</th>\n",
              "      <td>211</td>\n",
              "      <td>Gilroy</td>\n",
              "      <td>San Francisco Bay</td>\n",
              "      <td>Dec 2019</td>\n",
              "      <td>1.36</td>\n",
              "      <td></td>\n",
              "      <td>0.00</td>\n",
              "      <td>L</td>\n",
              "      <td>167.0</td>\n",
              "      <td></td>\n",
              "      <td>8.7</td>\n",
              "      <td>L</td>\n",
              "      <td>60.1</td>\n",
              "      <td></td>\n",
              "      <td>42.9</td>\n",
              "      <td></td>\n",
              "      <td>50.9</td>\n",
              "      <td></td>\n",
              "      <td>99.0</td>\n",
              "      <td></td>\n",
              "      <td>63.0</td>\n",
              "      <td></td>\n",
              "      <td>78.0</td>\n",
              "      <td>L</td>\n",
              "      <td>40.8</td>\n",
              "      <td>L</td>\n",
              "      <td>4.1</td>\n",
              "      <td>L</td>\n",
              "      <td>59.5</td>\n",
              "      <td>L</td>\n",
              "    </tr>\n",
              "    <tr>\n",
              "      <th>108</th>\n",
              "      <td>211</td>\n",
              "      <td>Gilroy</td>\n",
              "      <td>San Francisco Bay</td>\n",
              "      <td>Jan 2020</td>\n",
              "      <td>1.41</td>\n",
              "      <td>K</td>\n",
              "      <td>0.52</td>\n",
              "      <td>K</td>\n",
              "      <td>180.0</td>\n",
              "      <td></td>\n",
              "      <td>10.2</td>\n",
              "      <td></td>\n",
              "      <td>60.8</td>\n",
              "      <td></td>\n",
              "      <td>38.9</td>\n",
              "      <td></td>\n",
              "      <td>48.7</td>\n",
              "      <td></td>\n",
              "      <td>100.0</td>\n",
              "      <td></td>\n",
              "      <td>60.0</td>\n",
              "      <td></td>\n",
              "      <td>86.0</td>\n",
              "      <td></td>\n",
              "      <td>44.8</td>\n",
              "      <td></td>\n",
              "      <td>3.8</td>\n",
              "      <td>K</td>\n",
              "      <td>54.7</td>\n",
              "      <td>L</td>\n",
              "    </tr>\n",
              "    <tr>\n",
              "      <th>109</th>\n",
              "      <td>211</td>\n",
              "      <td>Gilroy</td>\n",
              "      <td>San Francisco Bay</td>\n",
              "      <td>Feb 2020</td>\n",
              "      <td>2.89</td>\n",
              "      <td>K</td>\n",
              "      <td>0.00</td>\n",
              "      <td>L</td>\n",
              "      <td>323.0</td>\n",
              "      <td>L</td>\n",
              "      <td>7.9</td>\n",
              "      <td>L</td>\n",
              "      <td>66.7</td>\n",
              "      <td>L</td>\n",
              "      <td>34.6</td>\n",
              "      <td>L</td>\n",
              "      <td>49.4</td>\n",
              "      <td>L</td>\n",
              "      <td>95.0</td>\n",
              "      <td>L</td>\n",
              "      <td>34.0</td>\n",
              "      <td>L</td>\n",
              "      <td>65.0</td>\n",
              "      <td>L</td>\n",
              "      <td>37.4</td>\n",
              "      <td>L</td>\n",
              "      <td>5.1</td>\n",
              "      <td>L</td>\n",
              "      <td>51.9</td>\n",
              "      <td>L</td>\n",
              "    </tr>\n",
              "    <tr>\n",
              "      <th>110</th>\n",
              "      <td>211</td>\n",
              "      <td>Gilroy</td>\n",
              "      <td>San Francisco Bay</td>\n",
              "      <td>Mar 2020</td>\n",
              "      <td>3.68</td>\n",
              "      <td>K</td>\n",
              "      <td>NaN</td>\n",
              "      <td>M</td>\n",
              "      <td>NaN</td>\n",
              "      <td>M</td>\n",
              "      <td>NaN</td>\n",
              "      <td>M</td>\n",
              "      <td>NaN</td>\n",
              "      <td>M</td>\n",
              "      <td>NaN</td>\n",
              "      <td>M</td>\n",
              "      <td>NaN</td>\n",
              "      <td>M</td>\n",
              "      <td>NaN</td>\n",
              "      <td>M</td>\n",
              "      <td>NaN</td>\n",
              "      <td>M</td>\n",
              "      <td>NaN</td>\n",
              "      <td>M</td>\n",
              "      <td>NaN</td>\n",
              "      <td>M</td>\n",
              "      <td>NaN</td>\n",
              "      <td>M</td>\n",
              "      <td>NaN</td>\n",
              "      <td>M</td>\n",
              "    </tr>\n",
              "  </tbody>\n",
              "</table>\n",
              "<p>111 rows × 30 columns</p>\n",
              "</div>"
            ],
            "text/plain": [
              "     Stn Id Stn Name       CIMIS Region  ... qc.11  Avg Soil Temp (F) qc.12\n",
              "0       211   Gilroy  San Francisco Bay  ...     K               49.3     K\n",
              "1       211   Gilroy  San Francisco Bay  ...     K               49.2      \n",
              "2       211   Gilroy  San Francisco Bay  ...     K               53.2      \n",
              "3       211   Gilroy  San Francisco Bay  ...     K               57.8      \n",
              "4       211   Gilroy  San Francisco Bay  ...     K               61.1      \n",
              "..      ...      ...                ...  ...   ...                ...   ...\n",
              "106     211   Gilroy  San Francisco Bay  ...     L               57.5     L\n",
              "107     211   Gilroy  San Francisco Bay  ...     L               59.5     L\n",
              "108     211   Gilroy  San Francisco Bay  ...     K               54.7     L\n",
              "109     211   Gilroy  San Francisco Bay  ...     L               51.9     L\n",
              "110     211   Gilroy  San Francisco Bay  ...     M                NaN     M\n",
              "\n",
              "[111 rows x 30 columns]"
            ]
          },
          "metadata": {
            "tags": []
          },
          "execution_count": 20
        }
      ]
    },
    {
      "cell_type": "markdown",
      "metadata": {
        "id": "8vRVrDe9bHKe",
        "colab_type": "text"
      },
      "source": [
        "## Summary Statistics"
      ]
    },
    {
      "cell_type": "code",
      "metadata": {
        "id": "cQ-MM0tGZKKJ",
        "colab_type": "code",
        "colab": {
          "base_uri": "https://localhost:8080/",
          "height": 170
        },
        "outputId": "44562cc4-2d25-42f1-8a19-2bd5d811a70a"
      },
      "source": [
        "#Summary statistics for total precipitation\n",
        "precip_sum = santa_clara_monthly_11_20['Total Precip (in)'].describe()\n",
        "precip_sum"
      ],
      "execution_count": 21,
      "outputs": [
        {
          "output_type": "execute_result",
          "data": {
            "text/plain": [
              "count    110.000000\n",
              "mean       0.918091\n",
              "std        1.487386\n",
              "min        0.000000\n",
              "25%        0.010000\n",
              "50%        0.265000\n",
              "75%        1.100000\n",
              "max        7.040000\n",
              "Name: Total Precip (in), dtype: float64"
            ]
          },
          "metadata": {
            "tags": []
          },
          "execution_count": 21
        }
      ]
    },
    {
      "cell_type": "code",
      "metadata": {
        "id": "mBizBJ2RZKEY",
        "colab_type": "code",
        "colab": {
          "base_uri": "https://localhost:8080/",
          "height": 170
        },
        "outputId": "d62e7c7a-a03a-46c4-eace-fca101b40a83"
      },
      "source": [
        "#Summary statistics for solar radiation\n",
        "solrad_sum = santa_clara_monthly_11_20['Avg Sol Rad (Ly/day)'].describe()\n",
        "solrad_sum"
      ],
      "execution_count": 22,
      "outputs": [
        {
          "output_type": "execute_result",
          "data": {
            "text/plain": [
              "count    110.000000\n",
              "mean     413.027273\n",
              "std      163.232061\n",
              "min      144.000000\n",
              "25%      252.500000\n",
              "50%      421.000000\n",
              "75%      554.500000\n",
              "max      705.000000\n",
              "Name: Avg Sol Rad (Ly/day), dtype: float64"
            ]
          },
          "metadata": {
            "tags": []
          },
          "execution_count": 22
        }
      ]
    },
    {
      "cell_type": "code",
      "metadata": {
        "id": "vPVSJYg7ZKB1",
        "colab_type": "code",
        "colab": {
          "base_uri": "https://localhost:8080/",
          "height": 170
        },
        "outputId": "eeb24c76-8d7f-455a-edc5-c4b493fe8241"
      },
      "source": [
        "wind_sum = santa_clara_monthly_11_20['Avg Wind Speed (mph)'].describe()\n",
        "wind_sum"
      ],
      "execution_count": 23,
      "outputs": [
        {
          "output_type": "execute_result",
          "data": {
            "text/plain": [
              "count    110.000000\n",
              "mean       4.997273\n",
              "std        0.925922\n",
              "min        3.200000\n",
              "25%        4.200000\n",
              "50%        4.900000\n",
              "75%        5.775000\n",
              "max        7.000000\n",
              "Name: Avg Wind Speed (mph), dtype: float64"
            ]
          },
          "metadata": {
            "tags": []
          },
          "execution_count": 23
        }
      ]
    },
    {
      "cell_type": "markdown",
      "metadata": {
        "id": "mI1bTTmecsd8",
        "colab_type": "text"
      },
      "source": [
        "## Visualization"
      ]
    },
    {
      "cell_type": "markdown",
      "metadata": {
        "id": "Co0DwPFIj-Y8",
        "colab_type": "text"
      },
      "source": [
        "### Histograms"
      ]
    },
    {
      "cell_type": "code",
      "metadata": {
        "id": "iDhDIt9vb5_Q",
        "colab_type": "code",
        "colab": {
          "base_uri": "https://localhost:8080/",
          "height": 308
        },
        "outputId": "9b08ecaf-981a-4714-d2d1-a2d55e1537d8"
      },
      "source": [
        "#Create a histogram with seaborn\n",
        "#aesthetics help https://seaborn.pydata.org/tutorial/aesthetics.html\n",
        "\n",
        "hist = sns.distplot(santa_clara_monthly_11_20['Total Precip (in)'], kde=False, rug=True)\n",
        "hist\n",
        "sns.set()\n",
        "sns.set_style('dark')\n",
        "sns.set_style('ticks')\n",
        "sns.despine()\n",
        "plt.xscale('log')\n",
        "plt.xticks()\n",
        "plt.ylabel('Number of Months')"
      ],
      "execution_count": 24,
      "outputs": [
        {
          "output_type": "execute_result",
          "data": {
            "text/plain": [
              "Text(0, 0.5, 'Number of Months')"
            ]
          },
          "metadata": {
            "tags": []
          },
          "execution_count": 24
        },
        {
          "output_type": "display_data",
          "data": {
            "image/png": "[encoded data removed]",
            "text/plain": [
              "<Figure size 432x288 with 1 Axes>"
            ]
          },
          "metadata": {
            "tags": []
          }
        }
      ]
    },
    {
      "cell_type": "code",
      "metadata": {
        "id": "PQcAoUn8b6GY",
        "colab_type": "code",
        "colab": {
          "base_uri": "https://localhost:8080/",
          "height": 301
        },
        "outputId": "b20e37cd-a7fb-4b92-ad3a-d81534d495f7"
      },
      "source": [
        "#Putting mult histograms on same axes https://python-graph-gallery.com/25-histogram-with-several-variables-seaborn/\n",
        "\n",
        "#Normalize\n",
        "norm_precip = santa_clara_monthly_11_20['Total Precip (in)'] / precip_sum[1]\n",
        "norm_solrad = santa_clara_monthly_11_20['Avg Sol Rad (Ly/day)'] / solrad_sum[1]\n",
        "norm_wind = santa_clara_monthly_11_20['Avg Wind Speed (mph)'] / wind_sum[1]\n",
        "\n",
        "plt.figure()\n",
        "sns.distplot(norm_precip, color='blue')\n",
        "sns.distplot(norm_solrad, color='red')\n",
        "sns.distplot(norm_wind, color='white')\n",
        "sns.set()\n",
        "sns.set_style('dark')\n",
        "sns.set_style('ticks')\n",
        "\n",
        "plt.xlabel('Normalized against Mean')"
      ],
      "execution_count": 25,
      "outputs": [
        {
          "output_type": "execute_result",
          "data": {
            "text/plain": [
              "Text(0.5, 0, 'Normalized against Mean')"
            ]
          },
          "metadata": {
            "tags": []
          },
          "execution_count": 25
        },
        {
          "output_type": "display_data",
          "data": {
            "image/png": "[encoded data removed]",
            "text/plain": [
              "<Figure size 432x288 with 1 Axes>"
            ]
          },
          "metadata": {
            "tags": []
          }
        }
      ]
    },
    {
      "cell_type": "markdown",
      "metadata": {
        "id": "KznpoJo6kpXD",
        "colab_type": "text"
      },
      "source": [
        "### Time Series"
      ]
    },
    {
      "cell_type": "code",
      "metadata": {
        "id": "OrLAKDbClKn6",
        "colab_type": "code",
        "colab": {
          "base_uri": "https://localhost:8080/",
          "height": 301
        },
        "outputId": "ae307552-a219-405f-8a12-4a69cb65c356"
      },
      "source": [
        "sns.set(style=\"darkgrid\")\n",
        "\n",
        "sns.lineplot(x=santa_clara_monthly_11_20['Month Year'], y=santa_clara_monthly_11_20['Total Precip (in)'])"
      ],
      "execution_count": 26,
      "outputs": [
        {
          "output_type": "execute_result",
          "data": {
            "text/plain": [
              "<matplotlib.axes._subplots.AxesSubplot at 0x7f41c5013630>"
            ]
          },
          "metadata": {
            "tags": []
          },
          "execution_count": 26
        },
        {
          "output_type": "display_data",
          "data": {
            "image/png": "[encoded data removed]",
            "text/plain": [
              "<Figure size 432x288 with 1 Axes>"
            ]
          },
          "metadata": {
            "tags": []
          }
        }
      ]
    },
    {
      "cell_type": "code",
      "metadata": {
        "id": "VhnxkvsVlKtA",
        "colab_type": "code",
        "colab": {}
      },
      "source": [
        "#Summarize the data for each year\n",
        "year_avg_precip = []\n",
        "\n",
        "#for i in range(length):\n",
        "  #monthyear = santa_clara_monthly_11_20['Month Year'].iloc[i]\n",
        "  #print(monthyear)"
      ],
      "execution_count": 27,
      "outputs": []
    },
    {
      "cell_type": "markdown",
      "metadata": {
        "id": "xlvhyYDxlMLE",
        "colab_type": "text"
      },
      "source": [
        "### Hexbin and other Joint Plots"
      ]
    },
    {
      "cell_type": "markdown",
      "metadata": {
        "id": "r1C0SOKwlPLZ",
        "colab_type": "text"
      },
      "source": [
        "A bivariate analogue of a histogram is known as a “hexbin” plot, because it shows the counts of observations that fall within hexagonal bins. This plot works best with relatively large datasets. It’s available through in matplotlib as matplotlib.axes.Axes.hexbin() and as a style in jointplot(). It looks best with a white background:"
      ]
    },
    {
      "cell_type": "code",
      "metadata": {
        "id": "kg3AiEVthy3v",
        "colab_type": "code",
        "colab": {
          "base_uri": "https://localhost:8080/",
          "height": 437
        },
        "outputId": "327576e5-c586-4871-9d05-086b4c42a927"
      },
      "source": [
        "#https://seaborn.pydata.org/tutorial/distributions.html\n",
        "#https://seaborn.pydata.org/generated/seaborn.jointplot.html \n",
        "\n",
        "with sns.axes_style('white'):\n",
        "  sns.jointplot(x=santa_clara_monthly_11_20['Total Precip (in)'], y=santa_clara_monthly_11_20['Avg Wind Speed (mph)'], kind='hex', color='k')"
      ],
      "execution_count": 28,
      "outputs": [
        {
          "output_type": "display_data",
          "data": {
            "image/png": "[encoded data removed]",
            "text/plain": [
              "<Figure size 432x432 with 3 Axes>"
            ]
          },
          "metadata": {
            "tags": []
          }
        }
      ]
    },
    {
      "cell_type": "code",
      "metadata": {
        "id": "EG4-PdKRhy9Z",
        "colab_type": "code",
        "colab": {
          "base_uri": "https://localhost:8080/",
          "height": 437
        },
        "outputId": "069e1e15-37c9-4afc-af9b-604465d46f03"
      },
      "source": [
        "with sns.axes_style('white'):\n",
        "  green = sns.jointplot(x=santa_clara_monthly_11_20['Total Precip (in)'], y=santa_clara_monthly_11_20['Avg Wind Speed (mph)'], kind='kde', color='g')\n",
        "\n",
        "green.ax_marg_x.set_xlim(0, 2)\n",
        "plt.show()"
      ],
      "execution_count": 29,
      "outputs": [
        {
          "output_type": "display_data",
          "data": {
            "image/png": "[encoded data removed]",
            "text/plain": [
              "<Figure size 432x432 with 3 Axes>"
            ]
          },
          "metadata": {
            "tags": []
          }
        }
      ]
    },
    {
      "cell_type": "code",
      "metadata": {
        "id": "toZ7LcS2hzGY",
        "colab_type": "code",
        "colab": {
          "base_uri": "https://localhost:8080/",
          "height": 437
        },
        "outputId": "fa8bea04-af79-48a8-984e-471d68e272dc"
      },
      "source": [
        "with sns.axes_style('white'):\n",
        "  yellow = sns.jointplot(x=santa_clara_monthly_11_20['Total Precip (in)'], y=santa_clara_monthly_11_20['Avg Wind Speed (mph)'], color='y')\n",
        "\n",
        "yellow.ax_marg_x.set_xlim(0, 10)\n",
        "plt.xscale('log')\n",
        "plt.show()"
      ],
      "execution_count": 30,
      "outputs": [
        {
          "output_type": "display_data",
          "data": {
            "image/png": "[encoded data removed]",
            "text/plain": [
              "<Figure size 432x432 with 3 Axes>"
            ]
          },
          "metadata": {
            "tags": []
          }
        }
      ]
    },
    {
      "cell_type": "code",
      "metadata": {
        "id": "WeUK_erhhy66",
        "colab_type": "code",
        "colab": {
          "base_uri": "https://localhost:8080/",
          "height": 437
        },
        "outputId": "c08dd726-b0e5-483b-a903-518ae1ff7621"
      },
      "source": [
        "with sns.axes_style('white'):\n",
        "  yellow2 = sns.jointplot(x=santa_clara_monthly_11_20['Total Precip (in)'], y=santa_clara_monthly_11_20['Avg Wind Speed (mph)'], kind='reg', color='y')\n",
        "\n",
        "yellow2.ax_marg_x.set_xlim(0, 7)\n",
        "plt.show()"
      ],
      "execution_count": 31,
      "outputs": [
        {
          "output_type": "display_data",
          "data": {
            "image/png": "[encoded data removed]",
            "text/plain": [
              "<Figure size 432x432 with 3 Axes>"
            ]
          },
          "metadata": {
            "tags": []
          }
        }
      ]
    },
    {
      "cell_type": "code",
      "metadata": {
        "id": "ySc3jRf5nK5e",
        "colab_type": "code",
        "colab": {
          "base_uri": "https://localhost:8080/",
          "height": 437
        },
        "outputId": "09e0bc73-33d4-4574-dd2a-2d421a88076d"
      },
      "source": [
        "#Scatter plot with joint density estimate\n",
        "\n",
        "with sns.axes_style('white'):\n",
        "  cyan = (sns.jointplot(x=santa_clara_monthly_11_20['Total Precip (in)'], y=santa_clara_monthly_11_20['Avg Sol Rad (Ly/day)'], color='c').plot_joint(sns.kdeplot, zorder=0, n_levels=6))\n",
        "\n",
        "cyan.ax_marg_x.set_xlim(0, 1)\n",
        "plt.show()"
      ],
      "execution_count": 32,
      "outputs": [
        {
          "output_type": "display_data",
          "data": {
            "image/png": "[encoded data removed]",
            "text/plain": [
              "<Figure size 432x432 with 3 Axes>"
            ]
          },
          "metadata": {
            "tags": []
          }
        }
      ]
    },
    {
      "cell_type": "markdown",
      "metadata": {
        "id": "JMzq0n8_sDTb",
        "colab_type": "text"
      },
      "source": [
        "# Penman Monteith Equation"
      ]
    },
    {
      "cell_type": "markdown",
      "metadata": {
        "id": "6SgtCGG7s5xj",
        "colab_type": "text"
      },
      "source": [
        "![picture](https://drive.google.com/uc?id=1Yn-xyT0Ig4k2hvN3F8pOnyhyg-3fX8ak)"
      ]
    },
    {
      "cell_type": "markdown",
      "metadata": {
        "id": "HsdjoA7Fz0Js",
        "colab_type": "text"
      },
      "source": [
        "Watersheds and wetlands homework https://docs.google.com/document/d/1yc-ZM7ZCEDcihHMTFofv3306gWAs71M3Eeo40N9oaks/edit"
      ]
    },
    {
      "cell_type": "markdown",
      "metadata": {
        "id": "LU5etoJABnbS",
        "colab_type": "text"
      },
      "source": [
        "### Developing Equation"
      ]
    },
    {
      "cell_type": "code",
      "metadata": {
        "id": "HD6A809NnLFi",
        "colab_type": "code",
        "colab": {}
      },
      "source": [
        "#Penman-Monteith Equation\n",
        "\n",
        "def penman_monteith(rn, G, es, ea, pa, cp, delta, gamma, rs, ra, latent, ktime):\n",
        "  upper = ( (delta * (rn - G)) + (ktime * pa * cp * ((es - ea) / rs)) )\n",
        "  lower = ( delta + (gamma * (1 + (rs / ra))) )\n",
        "  ET = upper / lower\n",
        "  return ET"
      ],
      "execution_count": 33,
      "outputs": []
    },
    {
      "cell_type": "code",
      "metadata": {
        "id": "v_ZZarXDyyYp",
        "colab_type": "code",
        "colab": {}
      },
      "source": [
        "def penman_monteith(T, gamma, u, rn, RH):\n",
        "  \"\"\"Calculates the Erc (evapotranspiration of reference crop) using the \n",
        "  Penman-Monteith equation\n",
        "  \n",
        "  Input units:\n",
        "  T is temperature in Celsius\n",
        "  gamma is in units of kPa/C\n",
        "  u is wind speed in m/s\n",
        "  rn is provided in W / m^2\n",
        "\n",
        "  Output is Erc in mm/day\n",
        "  \"\"\"\n",
        "  # Saturation Vapor Pressure\n",
        "  # Units of kPa\n",
        "  es = .611 * (math.exp((17.27 * T) / (237.3 + T)))\n",
        "\n",
        "  # Saturtaion Vapor Pressure - Temperature Gradient\n",
        "  # Units of kPa / C\n",
        "  delta = (4098 * es) / (T + 273.3)**2\n",
        "\n",
        "  # Gamma*\n",
        "  # Units of kPa / C\n",
        "  gamma_star = gamma * (1 + ((1/3) * u))\n",
        "\n",
        "  # Net Radiation\n",
        "  # Units of MJ / (m^2 * day)\n",
        "  rn = rn * 60 * 60 * 24 / 1000000\n",
        "\n",
        "  # Latent Heat of Vaporization\n",
        "  # Units of MJ/kg\n",
        "  latent = 2.501 - (2.361 * (10**-3) * T)\n",
        "\n",
        "  # Term1\n",
        "  pw = 1000 #density of water in kg/m^3\n",
        "  Term1 = (1000 * delta) / (pw * latent * (delta + gamma_star))\n",
        "\n",
        "  # Term2\n",
        "  Term2 = rn\n",
        "\n",
        "  # Term3\n",
        "  Term3 = (gamma / (delta + gamma_star)) * (900 / (T + 275))\n",
        "\n",
        "  # Term4\n",
        "  Term4 = u * delta * (1 - RH)\n",
        "\n",
        "  # Final calculation of Erc in mm/day\n",
        "  Erc = (Term1 * Term2) + (Term3 * Term4)\n",
        "\n",
        "  return Erc"
      ],
      "execution_count": 34,
      "outputs": []
    },
    {
      "cell_type": "code",
      "metadata": {
        "id": "CaKIkS0v5gNL",
        "colab_type": "code",
        "colab": {}
      },
      "source": [
        "# Code to read csv file into Colaboratory:\n",
        "!pip install -U -q PyDrive\n",
        "from pydrive.auth import GoogleAuth\n",
        "from pydrive.drive import GoogleDrive\n",
        "from google.colab import auth\n",
        "from oauth2client.client import GoogleCredentials\n",
        "\n",
        "# Authenticate and create the PyDrive client.\n",
        "auth.authenticate_user()\n",
        "gauth = GoogleAuth()\n",
        "gauth.credentials = GoogleCredentials.get_application_default()\n",
        "drive = GoogleDrive(gauth)"
      ],
      "execution_count": 35,
      "outputs": []
    },
    {
      "cell_type": "code",
      "metadata": {
        "id": "DHMBqZ233LYr",
        "colab_type": "code",
        "colab": {}
      },
      "source": [
        "features = ['Stn Id', 'Stn Name', 'CIMIS Region', 'Month Year', 'Total ETo (mm)', 'Total Precip (mm)', 'Avg Sol Rad (W/sq.m)', 'Avg Air Temp (C)', 'Avg Rel Hum (%)', 'Avg Wind Speed (m/s)']"
      ],
      "execution_count": 36,
      "outputs": []
    },
    {
      "cell_type": "code",
      "metadata": {
        "id": "-MnrBmudnLAw",
        "colab_type": "code",
        "colab": {}
      },
      "source": [
        "Filename2 = 'CIMIS_0111-0320_Monthly_metric'\n",
        "link2 = 'https://drive.google.com/open?id=1aM731BzXb_0un1HDhNhJuI9_7W-3PpWU'"
      ],
      "execution_count": 37,
      "outputs": []
    },
    {
      "cell_type": "code",
      "metadata": {
        "id": "qazKsNrMnK89",
        "colab_type": "code",
        "colab": {}
      },
      "source": [
        "discard, id = link2.split('=')"
      ],
      "execution_count": 38,
      "outputs": []
    },
    {
      "cell_type": "code",
      "metadata": {
        "id": "n2_wXWoYvdff",
        "colab_type": "code",
        "colab": {}
      },
      "source": [
        "downloaded = drive.CreateFile({'id': id})\n",
        "downloaded.GetContentFile(Filename2 + '.csv')\n",
        "santa_clara_monthly_11_20_metric = pd.read_csv(Filename2 + '.csv')"
      ],
      "execution_count": 39,
      "outputs": []
    },
    {
      "cell_type": "code",
      "metadata": {
        "id": "4f5UUafpvdno",
        "colab_type": "code",
        "colab": {}
      },
      "source": [
        "penman_values = santa_clara_monthly_11_20_metric[features]"
      ],
      "execution_count": 40,
      "outputs": []
    },
    {
      "cell_type": "code",
      "metadata": {
        "id": "eIb4qzUq5mOn",
        "colab_type": "code",
        "colab": {
          "base_uri": "https://localhost:8080/",
          "height": 405
        },
        "outputId": "fd73e333-3781-495e-ee94-be79e5943e44"
      },
      "source": [
        "length = penman_values.shape[0]\n",
        "gamma_values = []\n",
        "# gamma constant units of kPa /C\n",
        "gamma = .066\n",
        "\n",
        "for i in range(length):\n",
        "  gamma_values.append(gamma)\n",
        "\n",
        "gamma_values = pd.DataFrame(gamma_values)\n",
        "\n",
        "penman_values = penman_values.join(gamma_values)\n",
        "penman_values"
      ],
      "execution_count": 41,
      "outputs": [
        {
          "output_type": "execute_result",
          "data": {
            "text/html": [
              "<div>\n",
              "<style scoped>\n",
              "    .dataframe tbody tr th:only-of-type {\n",
              "        vertical-align: middle;\n",
              "    }\n",
              "\n",
              "    .dataframe tbody tr th {\n",
              "        vertical-align: top;\n",
              "    }\n",
              "\n",
              "    .dataframe thead th {\n",
              "        text-align: right;\n",
              "    }\n",
              "</style>\n",
              "<table border=\"1\" class=\"dataframe\">\n",
              "  <thead>\n",
              "    <tr style=\"text-align: right;\">\n",
              "      <th></th>\n",
              "      <th>Stn Id</th>\n",
              "      <th>Stn Name</th>\n",
              "      <th>CIMIS Region</th>\n",
              "      <th>Month Year</th>\n",
              "      <th>Total ETo (mm)</th>\n",
              "      <th>Total Precip (mm)</th>\n",
              "      <th>Avg Sol Rad (W/sq.m)</th>\n",
              "      <th>Avg Air Temp (C)</th>\n",
              "      <th>Avg Rel Hum (%)</th>\n",
              "      <th>Avg Wind Speed (m/s)</th>\n",
              "      <th>0</th>\n",
              "    </tr>\n",
              "  </thead>\n",
              "  <tbody>\n",
              "    <tr>\n",
              "      <th>0</th>\n",
              "      <td>211</td>\n",
              "      <td>Gilroy</td>\n",
              "      <td>San Francisco Bay</td>\n",
              "      <td>Jan 2011</td>\n",
              "      <td>45.98</td>\n",
              "      <td>34.8</td>\n",
              "      <td>100.0</td>\n",
              "      <td>9.1</td>\n",
              "      <td>78.0</td>\n",
              "      <td>1.9</td>\n",
              "      <td>0.066</td>\n",
              "    </tr>\n",
              "    <tr>\n",
              "      <th>1</th>\n",
              "      <td>211</td>\n",
              "      <td>Gilroy</td>\n",
              "      <td>San Francisco Bay</td>\n",
              "      <td>Feb 2011</td>\n",
              "      <td>58.85</td>\n",
              "      <td>103.0</td>\n",
              "      <td>134.0</td>\n",
              "      <td>8.7</td>\n",
              "      <td>69.0</td>\n",
              "      <td>2.1</td>\n",
              "      <td>0.066</td>\n",
              "    </tr>\n",
              "    <tr>\n",
              "      <th>2</th>\n",
              "      <td>211</td>\n",
              "      <td>Gilroy</td>\n",
              "      <td>San Francisco Bay</td>\n",
              "      <td>Mar 2011</td>\n",
              "      <td>76.37</td>\n",
              "      <td>114.9</td>\n",
              "      <td>152.0</td>\n",
              "      <td>11.7</td>\n",
              "      <td>76.0</td>\n",
              "      <td>2.5</td>\n",
              "      <td>0.066</td>\n",
              "    </tr>\n",
              "    <tr>\n",
              "      <th>3</th>\n",
              "      <td>211</td>\n",
              "      <td>Gilroy</td>\n",
              "      <td>San Francisco Bay</td>\n",
              "      <td>Apr 2011</td>\n",
              "      <td>128.97</td>\n",
              "      <td>7.3</td>\n",
              "      <td>240.0</td>\n",
              "      <td>12.9</td>\n",
              "      <td>66.0</td>\n",
              "      <td>2.9</td>\n",
              "      <td>0.066</td>\n",
              "    </tr>\n",
              "    <tr>\n",
              "      <th>4</th>\n",
              "      <td>211</td>\n",
              "      <td>Gilroy</td>\n",
              "      <td>San Francisco Bay</td>\n",
              "      <td>May 2011</td>\n",
              "      <td>149.12</td>\n",
              "      <td>17.7</td>\n",
              "      <td>272.0</td>\n",
              "      <td>13.9</td>\n",
              "      <td>64.0</td>\n",
              "      <td>2.7</td>\n",
              "      <td>0.066</td>\n",
              "    </tr>\n",
              "    <tr>\n",
              "      <th>...</th>\n",
              "      <td>...</td>\n",
              "      <td>...</td>\n",
              "      <td>...</td>\n",
              "      <td>...</td>\n",
              "      <td>...</td>\n",
              "      <td>...</td>\n",
              "      <td>...</td>\n",
              "      <td>...</td>\n",
              "      <td>...</td>\n",
              "      <td>...</td>\n",
              "      <td>...</td>\n",
              "    </tr>\n",
              "    <tr>\n",
              "      <th>106</th>\n",
              "      <td>211</td>\n",
              "      <td>Gilroy</td>\n",
              "      <td>San Francisco Bay</td>\n",
              "      <td>Nov 2019</td>\n",
              "      <td>64.33</td>\n",
              "      <td>0.1</td>\n",
              "      <td>136.0</td>\n",
              "      <td>11.6</td>\n",
              "      <td>61.0</td>\n",
              "      <td>1.7</td>\n",
              "      <td>0.066</td>\n",
              "    </tr>\n",
              "    <tr>\n",
              "      <th>107</th>\n",
              "      <td>211</td>\n",
              "      <td>Gilroy</td>\n",
              "      <td>San Francisco Bay</td>\n",
              "      <td>Dec 2019</td>\n",
              "      <td>34.63</td>\n",
              "      <td>0.0</td>\n",
              "      <td>81.0</td>\n",
              "      <td>10.5</td>\n",
              "      <td>78.0</td>\n",
              "      <td>1.8</td>\n",
              "      <td>0.066</td>\n",
              "    </tr>\n",
              "    <tr>\n",
              "      <th>108</th>\n",
              "      <td>211</td>\n",
              "      <td>Gilroy</td>\n",
              "      <td>San Francisco Bay</td>\n",
              "      <td>Jan 2020</td>\n",
              "      <td>35.80</td>\n",
              "      <td>13.2</td>\n",
              "      <td>87.0</td>\n",
              "      <td>9.3</td>\n",
              "      <td>86.0</td>\n",
              "      <td>1.7</td>\n",
              "      <td>0.066</td>\n",
              "    </tr>\n",
              "    <tr>\n",
              "      <th>109</th>\n",
              "      <td>211</td>\n",
              "      <td>Gilroy</td>\n",
              "      <td>San Francisco Bay</td>\n",
              "      <td>Feb 2020</td>\n",
              "      <td>73.38</td>\n",
              "      <td>0.1</td>\n",
              "      <td>156.0</td>\n",
              "      <td>9.6</td>\n",
              "      <td>65.0</td>\n",
              "      <td>2.3</td>\n",
              "      <td>0.066</td>\n",
              "    </tr>\n",
              "    <tr>\n",
              "      <th>110</th>\n",
              "      <td>211</td>\n",
              "      <td>Gilroy</td>\n",
              "      <td>San Francisco Bay</td>\n",
              "      <td>Mar 2020</td>\n",
              "      <td>93.51</td>\n",
              "      <td>NaN</td>\n",
              "      <td>NaN</td>\n",
              "      <td>NaN</td>\n",
              "      <td>NaN</td>\n",
              "      <td>NaN</td>\n",
              "      <td>0.066</td>\n",
              "    </tr>\n",
              "  </tbody>\n",
              "</table>\n",
              "<p>111 rows × 11 columns</p>\n",
              "</div>"
            ],
            "text/plain": [
              "     Stn Id Stn Name  ... Avg Wind Speed (m/s)      0\n",
              "0       211   Gilroy  ...                  1.9  0.066\n",
              "1       211   Gilroy  ...                  2.1  0.066\n",
              "2       211   Gilroy  ...                  2.5  0.066\n",
              "3       211   Gilroy  ...                  2.9  0.066\n",
              "4       211   Gilroy  ...                  2.7  0.066\n",
              "..      ...      ...  ...                  ...    ...\n",
              "106     211   Gilroy  ...                  1.7  0.066\n",
              "107     211   Gilroy  ...                  1.8  0.066\n",
              "108     211   Gilroy  ...                  1.7  0.066\n",
              "109     211   Gilroy  ...                  2.3  0.066\n",
              "110     211   Gilroy  ...                  NaN  0.066\n",
              "\n",
              "[111 rows x 11 columns]"
            ]
          },
          "metadata": {
            "tags": []
          },
          "execution_count": 41
        }
      ]
    },
    {
      "cell_type": "code",
      "metadata": {
        "id": "Pp4dRyQC-Qg1",
        "colab_type": "code",
        "colab": {
          "base_uri": "https://localhost:8080/",
          "height": 405
        },
        "outputId": "1a23bd04-864b-4785-b33e-40fa80d7d6e4"
      },
      "source": [
        "penman_values.rename(columns={0: 'Gamma'}, inplace=True)\n",
        "penman_values"
      ],
      "execution_count": 42,
      "outputs": [
        {
          "output_type": "execute_result",
          "data": {
            "text/html": [
              "<div>\n",
              "<style scoped>\n",
              "    .dataframe tbody tr th:only-of-type {\n",
              "        vertical-align: middle;\n",
              "    }\n",
              "\n",
              "    .dataframe tbody tr th {\n",
              "        vertical-align: top;\n",
              "    }\n",
              "\n",
              "    .dataframe thead th {\n",
              "        text-align: right;\n",
              "    }\n",
              "</style>\n",
              "<table border=\"1\" class=\"dataframe\">\n",
              "  <thead>\n",
              "    <tr style=\"text-align: right;\">\n",
              "      <th></th>\n",
              "      <th>Stn Id</th>\n",
              "      <th>Stn Name</th>\n",
              "      <th>CIMIS Region</th>\n",
              "      <th>Month Year</th>\n",
              "      <th>Total ETo (mm)</th>\n",
              "      <th>Total Precip (mm)</th>\n",
              "      <th>Avg Sol Rad (W/sq.m)</th>\n",
              "      <th>Avg Air Temp (C)</th>\n",
              "      <th>Avg Rel Hum (%)</th>\n",
              "      <th>Avg Wind Speed (m/s)</th>\n",
              "      <th>Gamma</th>\n",
              "    </tr>\n",
              "  </thead>\n",
              "  <tbody>\n",
              "    <tr>\n",
              "      <th>0</th>\n",
              "      <td>211</td>\n",
              "      <td>Gilroy</td>\n",
              "      <td>San Francisco Bay</td>\n",
              "      <td>Jan 2011</td>\n",
              "      <td>45.98</td>\n",
              "      <td>34.8</td>\n",
              "      <td>100.0</td>\n",
              "      <td>9.1</td>\n",
              "      <td>78.0</td>\n",
              "      <td>1.9</td>\n",
              "      <td>0.066</td>\n",
              "    </tr>\n",
              "    <tr>\n",
              "      <th>1</th>\n",
              "      <td>211</td>\n",
              "      <td>Gilroy</td>\n",
              "      <td>San Francisco Bay</td>\n",
              "      <td>Feb 2011</td>\n",
              "      <td>58.85</td>\n",
              "      <td>103.0</td>\n",
              "      <td>134.0</td>\n",
              "      <td>8.7</td>\n",
              "      <td>69.0</td>\n",
              "      <td>2.1</td>\n",
              "      <td>0.066</td>\n",
              "    </tr>\n",
              "    <tr>\n",
              "      <th>2</th>\n",
              "      <td>211</td>\n",
              "      <td>Gilroy</td>\n",
              "      <td>San Francisco Bay</td>\n",
              "      <td>Mar 2011</td>\n",
              "      <td>76.37</td>\n",
              "      <td>114.9</td>\n",
              "      <td>152.0</td>\n",
              "      <td>11.7</td>\n",
              "      <td>76.0</td>\n",
              "      <td>2.5</td>\n",
              "      <td>0.066</td>\n",
              "    </tr>\n",
              "    <tr>\n",
              "      <th>3</th>\n",
              "      <td>211</td>\n",
              "      <td>Gilroy</td>\n",
              "      <td>San Francisco Bay</td>\n",
              "      <td>Apr 2011</td>\n",
              "      <td>128.97</td>\n",
              "      <td>7.3</td>\n",
              "      <td>240.0</td>\n",
              "      <td>12.9</td>\n",
              "      <td>66.0</td>\n",
              "      <td>2.9</td>\n",
              "      <td>0.066</td>\n",
              "    </tr>\n",
              "    <tr>\n",
              "      <th>4</th>\n",
              "      <td>211</td>\n",
              "      <td>Gilroy</td>\n",
              "      <td>San Francisco Bay</td>\n",
              "      <td>May 2011</td>\n",
              "      <td>149.12</td>\n",
              "      <td>17.7</td>\n",
              "      <td>272.0</td>\n",
              "      <td>13.9</td>\n",
              "      <td>64.0</td>\n",
              "      <td>2.7</td>\n",
              "      <td>0.066</td>\n",
              "    </tr>\n",
              "    <tr>\n",
              "      <th>...</th>\n",
              "      <td>...</td>\n",
              "      <td>...</td>\n",
              "      <td>...</td>\n",
              "      <td>...</td>\n",
              "      <td>...</td>\n",
              "      <td>...</td>\n",
              "      <td>...</td>\n",
              "      <td>...</td>\n",
              "      <td>...</td>\n",
              "      <td>...</td>\n",
              "      <td>...</td>\n",
              "    </tr>\n",
              "    <tr>\n",
              "      <th>106</th>\n",
              "      <td>211</td>\n",
              "      <td>Gilroy</td>\n",
              "      <td>San Francisco Bay</td>\n",
              "      <td>Nov 2019</td>\n",
              "      <td>64.33</td>\n",
              "      <td>0.1</td>\n",
              "      <td>136.0</td>\n",
              "      <td>11.6</td>\n",
              "      <td>61.0</td>\n",
              "      <td>1.7</td>\n",
              "      <td>0.066</td>\n",
              "    </tr>\n",
              "    <tr>\n",
              "      <th>107</th>\n",
              "      <td>211</td>\n",
              "      <td>Gilroy</td>\n",
              "      <td>San Francisco Bay</td>\n",
              "      <td>Dec 2019</td>\n",
              "      <td>34.63</td>\n",
              "      <td>0.0</td>\n",
              "      <td>81.0</td>\n",
              "      <td>10.5</td>\n",
              "      <td>78.0</td>\n",
              "      <td>1.8</td>\n",
              "      <td>0.066</td>\n",
              "    </tr>\n",
              "    <tr>\n",
              "      <th>108</th>\n",
              "      <td>211</td>\n",
              "      <td>Gilroy</td>\n",
              "      <td>San Francisco Bay</td>\n",
              "      <td>Jan 2020</td>\n",
              "      <td>35.80</td>\n",
              "      <td>13.2</td>\n",
              "      <td>87.0</td>\n",
              "      <td>9.3</td>\n",
              "      <td>86.0</td>\n",
              "      <td>1.7</td>\n",
              "      <td>0.066</td>\n",
              "    </tr>\n",
              "    <tr>\n",
              "      <th>109</th>\n",
              "      <td>211</td>\n",
              "      <td>Gilroy</td>\n",
              "      <td>San Francisco Bay</td>\n",
              "      <td>Feb 2020</td>\n",
              "      <td>73.38</td>\n",
              "      <td>0.1</td>\n",
              "      <td>156.0</td>\n",
              "      <td>9.6</td>\n",
              "      <td>65.0</td>\n",
              "      <td>2.3</td>\n",
              "      <td>0.066</td>\n",
              "    </tr>\n",
              "    <tr>\n",
              "      <th>110</th>\n",
              "      <td>211</td>\n",
              "      <td>Gilroy</td>\n",
              "      <td>San Francisco Bay</td>\n",
              "      <td>Mar 2020</td>\n",
              "      <td>93.51</td>\n",
              "      <td>NaN</td>\n",
              "      <td>NaN</td>\n",
              "      <td>NaN</td>\n",
              "      <td>NaN</td>\n",
              "      <td>NaN</td>\n",
              "      <td>0.066</td>\n",
              "    </tr>\n",
              "  </tbody>\n",
              "</table>\n",
              "<p>111 rows × 11 columns</p>\n",
              "</div>"
            ],
            "text/plain": [
              "     Stn Id Stn Name  ... Avg Wind Speed (m/s)  Gamma\n",
              "0       211   Gilroy  ...                  1.9  0.066\n",
              "1       211   Gilroy  ...                  2.1  0.066\n",
              "2       211   Gilroy  ...                  2.5  0.066\n",
              "3       211   Gilroy  ...                  2.9  0.066\n",
              "4       211   Gilroy  ...                  2.7  0.066\n",
              "..      ...      ...  ...                  ...    ...\n",
              "106     211   Gilroy  ...                  1.7  0.066\n",
              "107     211   Gilroy  ...                  1.8  0.066\n",
              "108     211   Gilroy  ...                  1.7  0.066\n",
              "109     211   Gilroy  ...                  2.3  0.066\n",
              "110     211   Gilroy  ...                  NaN  0.066\n",
              "\n",
              "[111 rows x 11 columns]"
            ]
          },
          "metadata": {
            "tags": []
          },
          "execution_count": 42
        }
      ]
    },
    {
      "cell_type": "code",
      "metadata": {
        "id": "GPI5neyi6RYO",
        "colab_type": "code",
        "colab": {}
      },
      "source": [
        "# Testing\n",
        "T = penman_values['Avg Air Temp (C)'].iloc[0]\n",
        "u = penman_values['Avg Wind Speed (m/s)'].iloc[0]\n",
        "rn = penman_values['Avg Sol Rad (W/sq.m)'].iloc[0]\n",
        "gamma = penman_values['Gamma'].iloc[0]\n",
        "RH = penman_values['Avg Rel Hum (%)'].iloc[0] / 100"
      ],
      "execution_count": 43,
      "outputs": []
    },
    {
      "cell_type": "code",
      "metadata": {
        "id": "21C-KxQY70kN",
        "colab_type": "code",
        "colab": {
          "base_uri": "https://localhost:8080/",
          "height": 34
        },
        "outputId": "d689e1da-33ab-45b9-86fc-efa9f001dac6"
      },
      "source": [
        "penman_monteith(T, gamma, u, rn, RH)"
      ],
      "execution_count": 44,
      "outputs": [
        {
          "output_type": "execute_result",
          "data": {
            "text/plain": [
              "1.269162172940732"
            ]
          },
          "metadata": {
            "tags": []
          },
          "execution_count": 44
        }
      ]
    },
    {
      "cell_type": "code",
      "metadata": {
        "id": "r9_pPne870-g",
        "colab_type": "code",
        "colab": {}
      },
      "source": [
        ""
      ],
      "execution_count": 44,
      "outputs": []
    },
    {
      "cell_type": "markdown",
      "metadata": {
        "id": "06uIOAC2BkSt",
        "colab_type": "text"
      },
      "source": [
        "### Running throughout Data with Equation"
      ]
    },
    {
      "cell_type": "code",
      "metadata": {
        "id": "a9PElQYn71DG",
        "colab_type": "code",
        "colab": {}
      },
      "source": [
        "Erc_values = []\n",
        "\n",
        "for i in range(length):\n",
        "  # Get inputs for equation from table\n",
        "  T = penman_values['Avg Air Temp (C)'].iloc[i]\n",
        "  u = penman_values['Avg Wind Speed (m/s)'].iloc[i]\n",
        "  rn = penman_values['Avg Sol Rad (W/sq.m)'].iloc[i]\n",
        "  gamma = penman_values['Gamma'].iloc[i]\n",
        "  RH = penman_values['Avg Rel Hum (%)'].iloc[i] / 100\n",
        "  \n",
        "  # Calculate the Erc\n",
        "  Erc = penman_monteith(T, gamma, u, rn, RH)\n",
        "  Erc_values.append(Erc)"
      ],
      "execution_count": 45,
      "outputs": []
    },
    {
      "cell_type": "code",
      "metadata": {
        "id": "uA3ivJoj70iV",
        "colab_type": "code",
        "colab": {}
      },
      "source": [
        "# Adding to DF\n",
        "Erc_values = pd.DataFrame(Erc_values)\n",
        "\n",
        "penman_values = penman_values.join(Erc_values)"
      ],
      "execution_count": 46,
      "outputs": []
    },
    {
      "cell_type": "code",
      "metadata": {
        "id": "QmmKwMMi70fB",
        "colab_type": "code",
        "colab": {}
      },
      "source": [
        "penman_values = penman_values.rename(columns={0: 'Erc (mm/day)'})"
      ],
      "execution_count": 47,
      "outputs": []
    },
    {
      "cell_type": "code",
      "metadata": {
        "id": "sQWoEMOMCru5",
        "colab_type": "code",
        "colab": {
          "base_uri": "https://localhost:8080/",
          "height": 405
        },
        "outputId": "3039a121-2414-4ba4-a6ed-9b4635fc42fc"
      },
      "source": [
        "penman_values"
      ],
      "execution_count": 48,
      "outputs": [
        {
          "output_type": "execute_result",
          "data": {
            "text/html": [
              "<div>\n",
              "<style scoped>\n",
              "    .dataframe tbody tr th:only-of-type {\n",
              "        vertical-align: middle;\n",
              "    }\n",
              "\n",
              "    .dataframe tbody tr th {\n",
              "        vertical-align: top;\n",
              "    }\n",
              "\n",
              "    .dataframe thead th {\n",
              "        text-align: right;\n",
              "    }\n",
              "</style>\n",
              "<table border=\"1\" class=\"dataframe\">\n",
              "  <thead>\n",
              "    <tr style=\"text-align: right;\">\n",
              "      <th></th>\n",
              "      <th>Stn Id</th>\n",
              "      <th>Stn Name</th>\n",
              "      <th>CIMIS Region</th>\n",
              "      <th>Month Year</th>\n",
              "      <th>Total ETo (mm)</th>\n",
              "      <th>Total Precip (mm)</th>\n",
              "      <th>Avg Sol Rad (W/sq.m)</th>\n",
              "      <th>Avg Air Temp (C)</th>\n",
              "      <th>Avg Rel Hum (%)</th>\n",
              "      <th>Avg Wind Speed (m/s)</th>\n",
              "      <th>Gamma</th>\n",
              "      <th>Erc (mm/day)</th>\n",
              "    </tr>\n",
              "  </thead>\n",
              "  <tbody>\n",
              "    <tr>\n",
              "      <th>0</th>\n",
              "      <td>211</td>\n",
              "      <td>Gilroy</td>\n",
              "      <td>San Francisco Bay</td>\n",
              "      <td>Jan 2011</td>\n",
              "      <td>45.98</td>\n",
              "      <td>34.8</td>\n",
              "      <td>100.0</td>\n",
              "      <td>9.1</td>\n",
              "      <td>78.0</td>\n",
              "      <td>1.9</td>\n",
              "      <td>0.066</td>\n",
              "      <td>1.269162</td>\n",
              "    </tr>\n",
              "    <tr>\n",
              "      <th>1</th>\n",
              "      <td>211</td>\n",
              "      <td>Gilroy</td>\n",
              "      <td>San Francisco Bay</td>\n",
              "      <td>Feb 2011</td>\n",
              "      <td>58.85</td>\n",
              "      <td>103.0</td>\n",
              "      <td>134.0</td>\n",
              "      <td>8.7</td>\n",
              "      <td>69.0</td>\n",
              "      <td>2.1</td>\n",
              "      <td>0.066</td>\n",
              "      <td>1.636878</td>\n",
              "    </tr>\n",
              "    <tr>\n",
              "      <th>2</th>\n",
              "      <td>211</td>\n",
              "      <td>Gilroy</td>\n",
              "      <td>San Francisco Bay</td>\n",
              "      <td>Mar 2011</td>\n",
              "      <td>76.37</td>\n",
              "      <td>114.9</td>\n",
              "      <td>152.0</td>\n",
              "      <td>11.7</td>\n",
              "      <td>76.0</td>\n",
              "      <td>2.5</td>\n",
              "      <td>0.066</td>\n",
              "      <td>1.980621</td>\n",
              "    </tr>\n",
              "    <tr>\n",
              "      <th>3</th>\n",
              "      <td>211</td>\n",
              "      <td>Gilroy</td>\n",
              "      <td>San Francisco Bay</td>\n",
              "      <td>Apr 2011</td>\n",
              "      <td>128.97</td>\n",
              "      <td>7.3</td>\n",
              "      <td>240.0</td>\n",
              "      <td>12.9</td>\n",
              "      <td>66.0</td>\n",
              "      <td>2.9</td>\n",
              "      <td>0.066</td>\n",
              "      <td>3.134065</td>\n",
              "    </tr>\n",
              "    <tr>\n",
              "      <th>4</th>\n",
              "      <td>211</td>\n",
              "      <td>Gilroy</td>\n",
              "      <td>San Francisco Bay</td>\n",
              "      <td>May 2011</td>\n",
              "      <td>149.12</td>\n",
              "      <td>17.7</td>\n",
              "      <td>272.0</td>\n",
              "      <td>13.9</td>\n",
              "      <td>64.0</td>\n",
              "      <td>2.7</td>\n",
              "      <td>0.066</td>\n",
              "      <td>3.755363</td>\n",
              "    </tr>\n",
              "    <tr>\n",
              "      <th>...</th>\n",
              "      <td>...</td>\n",
              "      <td>...</td>\n",
              "      <td>...</td>\n",
              "      <td>...</td>\n",
              "      <td>...</td>\n",
              "      <td>...</td>\n",
              "      <td>...</td>\n",
              "      <td>...</td>\n",
              "      <td>...</td>\n",
              "      <td>...</td>\n",
              "      <td>...</td>\n",
              "      <td>...</td>\n",
              "    </tr>\n",
              "    <tr>\n",
              "      <th>106</th>\n",
              "      <td>211</td>\n",
              "      <td>Gilroy</td>\n",
              "      <td>San Francisco Bay</td>\n",
              "      <td>Nov 2019</td>\n",
              "      <td>64.33</td>\n",
              "      <td>0.1</td>\n",
              "      <td>136.0</td>\n",
              "      <td>11.6</td>\n",
              "      <td>61.0</td>\n",
              "      <td>1.7</td>\n",
              "      <td>0.066</td>\n",
              "      <td>1.956028</td>\n",
              "    </tr>\n",
              "    <tr>\n",
              "      <th>107</th>\n",
              "      <td>211</td>\n",
              "      <td>Gilroy</td>\n",
              "      <td>San Francisco Bay</td>\n",
              "      <td>Dec 2019</td>\n",
              "      <td>34.63</td>\n",
              "      <td>0.0</td>\n",
              "      <td>81.0</td>\n",
              "      <td>10.5</td>\n",
              "      <td>78.0</td>\n",
              "      <td>1.8</td>\n",
              "      <td>0.066</td>\n",
              "      <td>1.104245</td>\n",
              "    </tr>\n",
              "    <tr>\n",
              "      <th>108</th>\n",
              "      <td>211</td>\n",
              "      <td>Gilroy</td>\n",
              "      <td>San Francisco Bay</td>\n",
              "      <td>Jan 2020</td>\n",
              "      <td>35.80</td>\n",
              "      <td>13.2</td>\n",
              "      <td>87.0</td>\n",
              "      <td>9.3</td>\n",
              "      <td>86.0</td>\n",
              "      <td>1.7</td>\n",
              "      <td>0.066</td>\n",
              "      <td>1.133259</td>\n",
              "    </tr>\n",
              "    <tr>\n",
              "      <th>109</th>\n",
              "      <td>211</td>\n",
              "      <td>Gilroy</td>\n",
              "      <td>San Francisco Bay</td>\n",
              "      <td>Feb 2020</td>\n",
              "      <td>73.38</td>\n",
              "      <td>0.1</td>\n",
              "      <td>156.0</td>\n",
              "      <td>9.6</td>\n",
              "      <td>65.0</td>\n",
              "      <td>2.3</td>\n",
              "      <td>0.066</td>\n",
              "      <td>1.930446</td>\n",
              "    </tr>\n",
              "    <tr>\n",
              "      <th>110</th>\n",
              "      <td>211</td>\n",
              "      <td>Gilroy</td>\n",
              "      <td>San Francisco Bay</td>\n",
              "      <td>Mar 2020</td>\n",
              "      <td>93.51</td>\n",
              "      <td>NaN</td>\n",
              "      <td>NaN</td>\n",
              "      <td>NaN</td>\n",
              "      <td>NaN</td>\n",
              "      <td>NaN</td>\n",
              "      <td>0.066</td>\n",
              "      <td>NaN</td>\n",
              "    </tr>\n",
              "  </tbody>\n",
              "</table>\n",
              "<p>111 rows × 12 columns</p>\n",
              "</div>"
            ],
            "text/plain": [
              "     Stn Id Stn Name  ...  Gamma Erc (mm/day)\n",
              "0       211   Gilroy  ...  0.066     1.269162\n",
              "1       211   Gilroy  ...  0.066     1.636878\n",
              "2       211   Gilroy  ...  0.066     1.980621\n",
              "3       211   Gilroy  ...  0.066     3.134065\n",
              "4       211   Gilroy  ...  0.066     3.755363\n",
              "..      ...      ...  ...    ...          ...\n",
              "106     211   Gilroy  ...  0.066     1.956028\n",
              "107     211   Gilroy  ...  0.066     1.104245\n",
              "108     211   Gilroy  ...  0.066     1.133259\n",
              "109     211   Gilroy  ...  0.066     1.930446\n",
              "110     211   Gilroy  ...  0.066          NaN\n",
              "\n",
              "[111 rows x 12 columns]"
            ]
          },
          "metadata": {
            "tags": []
          },
          "execution_count": 48
        }
      ]
    },
    {
      "cell_type": "code",
      "metadata": {
        "id": "2Vg2dQRxC3Bb",
        "colab_type": "code",
        "colab": {
          "base_uri": "https://localhost:8080/",
          "height": 221
        },
        "outputId": "beefabbe-f828-42de-9779-6b6b5aab9e7a"
      },
      "source": [
        "Erc_sum = penman_values['Erc (mm/day)'].apply(lambda Erc: Erc * 30)\n",
        "Erc_sum"
      ],
      "execution_count": 49,
      "outputs": [
        {
          "output_type": "execute_result",
          "data": {
            "text/plain": [
              "0       38.074865\n",
              "1       49.106346\n",
              "2       59.418637\n",
              "3       94.021960\n",
              "4      112.660883\n",
              "          ...    \n",
              "106     58.680845\n",
              "107     33.127341\n",
              "108     33.997760\n",
              "109     57.913382\n",
              "110           NaN\n",
              "Name: Erc (mm/day), Length: 111, dtype: float64"
            ]
          },
          "metadata": {
            "tags": []
          },
          "execution_count": 49
        }
      ]
    },
    {
      "cell_type": "code",
      "metadata": {
        "id": "2eCfS3zOC3K6",
        "colab_type": "code",
        "colab": {}
      },
      "source": [
        "Erc_sum = pd.DataFrame(Erc_sum)"
      ],
      "execution_count": 50,
      "outputs": []
    },
    {
      "cell_type": "code",
      "metadata": {
        "id": "eioB4baVC3HL",
        "colab_type": "code",
        "colab": {
          "base_uri": "https://localhost:8080/",
          "height": 631
        },
        "outputId": "2521fdbf-9755-4811-c42b-6f8b57f8bdde"
      },
      "source": [
        "fig = plt.figure(figsize=[10,10])\n",
        "\n",
        "sns.set(style=\"darkgrid\")\n",
        "\n",
        "sns.lineplot(x=penman_values['Month Year'].iloc[:50], y=penman_values['Erc (mm/day)'].iloc[:50])\n",
        "sns.lineplot(x=penman_values['Month Year'].iloc[:50], y=penman_values['Total ETo (mm)'].iloc[:50])"
      ],
      "execution_count": 56,
      "outputs": [
        {
          "output_type": "execute_result",
          "data": {
            "text/plain": [
              "<matplotlib.axes._subplots.AxesSubplot at 0x7f41bcce3f98>"
            ]
          },
          "metadata": {
            "tags": []
          },
          "execution_count": 56
        },
        {
          "output_type": "display_data",
          "data": {
            "image/png": "[encoded data removed]",
            "text/plain": [
              "<Figure size 720x720 with 1 Axes>"
            ]
          },
          "metadata": {
            "tags": []
          }
        }
      ]
    }
  ]
}